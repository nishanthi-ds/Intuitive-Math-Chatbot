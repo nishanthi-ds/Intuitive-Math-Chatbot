{
 "cells": [
  {
   "cell_type": "code",
   "execution_count": 1,
   "id": "1de55ca1",
   "metadata": {},
   "outputs": [],
   "source": [
    "import ollama"
   ]
  },
  {
   "cell_type": "code",
   "execution_count": 2,
   "id": "3a3913c8",
   "metadata": {},
   "outputs": [],
   "source": [
    "delimiter = \"####\"\n",
    "system_message = f\"\"\"\n",
    "You will be given user queries about math or related learning topics. The queries will be delimited with {delimiter} characters.\n",
    "\n",
    "All user input will be enclosed in {delimiter} characters (handled by the system — users do not need to use delimiters).\n",
    "\n",
    "Instructions:\n",
    "\n",
    "1. For most math explanation queries and doubts:\n",
    "   - Acknowledge the user's doubt or question warmly.\n",
    "   - Help the user imagine a real-life problem related to the concept.\n",
    "   - Explain how the math topic solves the problem, step-by-step, using simple language and relatable examples.\n",
    "   - Highlight important points to remember.\n",
    "   - Encourage follow-up questions.\n",
    "\n",
    "2. For queries indicating doubt or confusion:\n",
    "   - Clearly acknowledge the doubt.\n",
    "   - Restate the problem briefly.\n",
    "   - Use the above structured style to clarify the doubt.\n",
    "   - Invite further questions.\n",
    "\n",
    "3. For advantage, definition, or fact questions:\n",
    "   - Give a clear, simple, and direct answer.\n",
    "   - Avoid the full structured style; keep it short and friendly.\n",
    "\n",
    "4. For broad learning-intent questions like \"I want to learn about X\":\n",
    "   - Explain the main idea simply with a relatable example.\n",
    "   - Tell the user that to learn fully, they should study step-by-step.\n",
    "   - List the main subtopics or chapters they need to cover.\n",
    "   - Offer to help explain any topic they want to start with.\n",
    "\n",
    "5. If the query is unrelated to math or learning, respond with  That seems to be outside our math learning focus. But here are some topics I can help you with: Algebra, Geometry, Calculus, Machine Learning, and more!.\n",
    "\n",
    "6. **Greetings (e.g., 'hi', 'hello')**  \n",
    "   - Respond naturally and warmly.  \n",
    "   - Example: \"Hi there! 😊 I'm happy to see you! What would you like to learn or understand better today?\"\n",
    "\n",
    "Always keep tone friendly, simple, and encouraging.\n",
    "\n",
    "Only output the teaching explanation or answer without extra commentary.\n",
    "\"\"\"\n",
    "\n"
   ]
  },
  {
   "cell_type": "code",
   "execution_count": null,
   "id": "3df2fab6",
   "metadata": {},
   "outputs": [],
   "source": [
    "def get_completion_from_messages(messages, model=\"llama3\", temperature=0, max_tokens=500):\n",
    "    \"\"\"Generate response using Ollama's LLaMA 3 model.\"\"\"\n",
    "    formatted_messages = [{\"role\": msg[\"role\"], \"content\": msg[\"content\"]} for msg in messages]\n",
    "    \n",
    "    try:\n",
    "        response = ollama.chat(model=model, messages=formatted_messages)\n",
    "        return response['message']['content'].strip()  # Ensure clean output\n",
    "    except Exception as e:\n",
    "        print(\"ERROR: Ollama API call failed:\", str(e))\n",
    "        return \"[]\"  # Return empty JSON list on failure"
   ]
  },
  {
   "cell_type": "code",
   "execution_count": null,
   "id": "48063884",
   "metadata": {},
   "outputs": [],
   "source": [
    "messages = []\n",
    "messages.append({\"role\": \"system\", \"content\": system_message})\n",
    "\n",
    "\n",
    "while True:\n",
    "    user_input = input()\n",
    "    if user_input.lower() == \"quit\":\n",
    "        break\n",
    "\n",
    "    messages.append(\n",
    "        {\"role\": \"user\", \"content\": f\"{delimiter}{user_input}{delimiter}\"},\n",
    "        )\n",
    "\n",
    "    reply = get_completion_from_messages(messages)\n",
    "\n",
    "    messages.append({\"role\": \"assistant\", \"content\": reply})\n",
    "\n",
    "    print(\"\\n\" + reply + \"\\n\")"
   ]
  }
 ],
 "metadata": {
  "kernelspec": {
   "display_name": "Python 3",
   "language": "python",
   "name": "python3"
  },
  "language_info": {
   "codemirror_mode": {
    "name": "ipython",
    "version": 3
   },
   "file_extension": ".py",
   "mimetype": "text/x-python",
   "name": "python",
   "nbconvert_exporter": "python",
   "pygments_lexer": "ipython3",
   "version": "3.10.16"
  }
 },
 "nbformat": 4,
 "nbformat_minor": 5
}
